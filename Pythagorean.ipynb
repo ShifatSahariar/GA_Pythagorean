{
 "cells": [
  {
   "cell_type": "code",
   "execution_count": 2,
   "id": "0eb42a0c-fb4b-4f85-9d09-8a89cc20ecc0",
   "metadata": {
    "scrolled": true
   },
   "outputs": [
    {
     "name": "stdout",
     "output_type": "stream",
     "text": [
      "Collecting deap\n",
      "  Using cached deap-1.4.1.tar.gz (1.1 MB)\n",
      "  Preparing metadata (setup.py) ... \u001b[?25ldone\n",
      "\u001b[?25hCollecting numpy (from deap)\n",
      "  Obtaining dependency information for numpy from https://files.pythonhosted.org/packages/d2/2f/b42860931c1479714201495ffe47d74460a916ae426a21fc9b68c5e329aa/numpy-1.26.0-cp311-cp311-macosx_10_9_x86_64.whl.metadata\n",
      "  Downloading numpy-1.26.0-cp311-cp311-macosx_10_9_x86_64.whl.metadata (53 kB)\n",
      "\u001b[2K     \u001b[90m━━━━━━━━━━━━━━━━━━━━━━━━━━━━━━━━━━━━━━━━\u001b[0m \u001b[32m53.5/53.5 kB\u001b[0m \u001b[31m1.1 MB/s\u001b[0m eta \u001b[36m0:00:00\u001b[0ma \u001b[36m0:00:01\u001b[0m\n",
      "\u001b[?25hDownloading numpy-1.26.0-cp311-cp311-macosx_10_9_x86_64.whl (20.6 MB)\n",
      "\u001b[2K   \u001b[90m━━━━━━━━━━━━━━━━━━━━━━━━━━━━━━━━━━━━━━━━\u001b[0m \u001b[32m20.6/20.6 MB\u001b[0m \u001b[31m18.6 MB/s\u001b[0m eta \u001b[36m0:00:00\u001b[0m00:01\u001b[0m00:01\u001b[0m\n",
      "\u001b[?25hBuilding wheels for collected packages: deap\n",
      "  Building wheel for deap (setup.py) ... \u001b[?25ldone\n",
      "\u001b[?25h  Created wheel for deap: filename=deap-1.4.1-py3-none-any.whl size=97316 sha256=00bb1a08c158aebfe3f5f25d98d25e15e042b5a54af08056b8edb03cf91a046d\n",
      "  Stored in directory: /Users/shifatsahariar/Library/Caches/pip/wheels/f8/64/b8/65eacfbff3024ae2e2beb22e691d5c8abb89fbd863b8049b5f\n",
      "Successfully built deap\n",
      "Installing collected packages: numpy, deap\n",
      "Successfully installed deap-1.4.1 numpy-1.26.0\n",
      "Collecting statsmodels\n",
      "  Downloading statsmodels-0.14.0-cp311-cp311-macosx_10_9_x86_64.whl (9.9 MB)\n",
      "\u001b[2K     \u001b[90m━━━━━━━━━━━━━━━━━━━━━━━━━━━━━━━━━━━━━━━━\u001b[0m \u001b[32m9.9/9.9 MB\u001b[0m \u001b[31m21.4 MB/s\u001b[0m eta \u001b[36m0:00:00\u001b[0m00:01\u001b[0m00:01\u001b[0m\n",
      "\u001b[?25hRequirement already satisfied: numpy>=1.18 in /usr/local/lib/python3.11/site-packages (from statsmodels) (1.26.0)\n",
      "Collecting scipy!=1.9.2,>=1.4 (from statsmodels)\n",
      "  Obtaining dependency information for scipy!=1.9.2,>=1.4 from https://files.pythonhosted.org/packages/b1/a6/b6d66d4f4045ba59200d25f254ccd63340162c903f95231e3ae6863fc4ae/scipy-1.11.3-cp311-cp311-macosx_10_9_x86_64.whl.metadata\n",
      "  Downloading scipy-1.11.3-cp311-cp311-macosx_10_9_x86_64.whl.metadata (60 kB)\n",
      "\u001b[2K     \u001b[90m━━━━━━━━━━━━━━━━━━━━━━━━━━━━━━━━━━━━━━━━\u001b[0m \u001b[32m60.4/60.4 kB\u001b[0m \u001b[31m3.9 MB/s\u001b[0m eta \u001b[36m0:00:00\u001b[0m\n",
      "\u001b[?25hCollecting pandas>=1.0 (from statsmodels)\n",
      "  Obtaining dependency information for pandas>=1.0 from https://files.pythonhosted.org/packages/30/6f/910f62af8642c94acca4fff529944c1e9463cf118742f7ee1a583fc6449c/pandas-2.1.1-cp311-cp311-macosx_10_9_x86_64.whl.metadata\n",
      "  Downloading pandas-2.1.1-cp311-cp311-macosx_10_9_x86_64.whl.metadata (18 kB)\n",
      "Collecting patsy>=0.5.2 (from statsmodels)\n",
      "  Downloading patsy-0.5.3-py2.py3-none-any.whl (233 kB)\n",
      "\u001b[2K     \u001b[90m━━━━━━━━━━━━━━━━━━━━━━━━━━━━━━━━━━━━━━\u001b[0m \u001b[32m233.8/233.8 kB\u001b[0m \u001b[31m18.8 MB/s\u001b[0m eta \u001b[36m0:00:00\u001b[0m\n",
      "\u001b[?25hRequirement already satisfied: packaging>=21.3 in /usr/local/lib/python3.11/site-packages (from statsmodels) (23.1)\n",
      "Collecting python-dateutil>=2.8.2 (from pandas>=1.0->statsmodels)\n",
      "  Downloading python_dateutil-2.8.2-py2.py3-none-any.whl (247 kB)\n",
      "\u001b[2K     \u001b[90m━━━━━━━━━━━━━━━━━━━━━━━━━━━━━━━━━━━━━━\u001b[0m \u001b[32m247.7/247.7 kB\u001b[0m \u001b[31m19.6 MB/s\u001b[0m eta \u001b[36m0:00:00\u001b[0m\n",
      "\u001b[?25hCollecting pytz>=2020.1 (from pandas>=1.0->statsmodels)\n",
      "  Obtaining dependency information for pytz>=2020.1 from https://files.pythonhosted.org/packages/32/4d/aaf7eff5deb402fd9a24a1449a8119f00d74ae9c2efa79f8ef9994261fc2/pytz-2023.3.post1-py2.py3-none-any.whl.metadata\n",
      "  Downloading pytz-2023.3.post1-py2.py3-none-any.whl.metadata (22 kB)\n",
      "Collecting tzdata>=2022.1 (from pandas>=1.0->statsmodels)\n",
      "  Downloading tzdata-2023.3-py2.py3-none-any.whl (341 kB)\n",
      "\u001b[2K     \u001b[90m━━━━━━━━━━━━━━━━━━━━━━━━━━━━━━━━━━━━━━\u001b[0m \u001b[32m341.8/341.8 kB\u001b[0m \u001b[31m30.2 MB/s\u001b[0m eta \u001b[36m0:00:00\u001b[0m\n",
      "\u001b[?25hRequirement already satisfied: six in /usr/local/lib/python3.11/site-packages (from patsy>=0.5.2->statsmodels) (1.16.0)\n",
      "Downloading pandas-2.1.1-cp311-cp311-macosx_10_9_x86_64.whl (11.6 MB)\n",
      "\u001b[2K   \u001b[90m━━━━━━━━━━━━━━━━━━━━━━━━━━━━━━━━━━━━━━━━\u001b[0m \u001b[32m11.6/11.6 MB\u001b[0m \u001b[31m23.9 MB/s\u001b[0m eta \u001b[36m0:00:00\u001b[0m00:01\u001b[0m00:01\u001b[0m\n",
      "\u001b[?25hDownloading scipy-1.11.3-cp311-cp311-macosx_10_9_x86_64.whl (37.2 MB)\n",
      "\u001b[2K   \u001b[90m━━━━━━━━━━━━━━━━━━━━━━━━━━━━━━━━━━━━━━━━\u001b[0m \u001b[32m37.2/37.2 MB\u001b[0m \u001b[31m15.9 MB/s\u001b[0m eta \u001b[36m0:00:00\u001b[0m00:01\u001b[0m00:01\u001b[0m\n",
      "\u001b[?25hDownloading pytz-2023.3.post1-py2.py3-none-any.whl (502 kB)\n",
      "\u001b[2K   \u001b[90m━━━━━━━━━━━━━━━━━━━━━━━━━━━━━━━━━━━━━━━━\u001b[0m \u001b[32m502.5/502.5 kB\u001b[0m \u001b[31m5.1 MB/s\u001b[0m eta \u001b[36m0:00:00\u001b[0m:00:01\u001b[0m\n",
      "\u001b[?25hInstalling collected packages: pytz, tzdata, scipy, python-dateutil, patsy, pandas, statsmodels\n",
      "Successfully installed pandas-2.1.1 patsy-0.5.3 python-dateutil-2.8.2 pytz-2023.3.post1 scipy-1.11.3 statsmodels-0.14.0 tzdata-2023.3\n",
      "Requirement already satisfied: scipy in /usr/local/lib/python3.11/site-packages (1.11.3)\n",
      "Requirement already satisfied: numpy<1.28.0,>=1.21.6 in /usr/local/lib/python3.11/site-packages (from scipy) (1.26.0)\n"
     ]
    }
   ],
   "source": [
    "!pip3 install deap\n",
    "!pip3 install statsmodels\n",
    "!pip3 install scipy\n"
   ]
  },
  {
   "cell_type": "markdown",
   "id": "7605d3ab-0065-46bf-a57b-c479d24c0e7f",
   "metadata": {},
   "source": [
    "### Imports"
   ]
  },
  {
   "cell_type": "code",
   "execution_count": 67,
   "id": "34860f8c-4ac8-4e57-8c77-0bad9be15be0",
   "metadata": {},
   "outputs": [],
   "source": [
    "import random\n",
    "from deap import base, creator, tools\n",
    "import statsmodels.api as sm\n",
    "import scipy.stats as stats\n"
   ]
  },
  {
   "cell_type": "markdown",
   "id": "9f5a3894-c9b7-4a45-aaf6-5f9fadfbdf2b",
   "metadata": {},
   "source": [
    "### Minimization Problem "
   ]
  },
  {
   "cell_type": "code",
   "execution_count": 68,
   "id": "15f55d43-ae7a-42e8-976d-a03aa7d7ed90",
   "metadata": {},
   "outputs": [],
   "source": [
    "creator.create(\"FitnessMin\", base.Fitness, weights=(-1.0,))\n",
    "creator.create(\"Individual\", list, fitness=creator.FitnessMin)\n"
   ]
  },
  {
   "cell_type": "code",
   "execution_count": 69,
   "id": "98f51c8f-fb36-4776-9c27-74e68d4f0744",
   "metadata": {},
   "outputs": [],
   "source": [
    "toolbox = base.Toolbox()\n",
    "toolbox.register(\"attr_int\", random.randint, 1, 100)\n",
    "toolbox.register(\"individual\", tools.initRepeat, creator.Individual, toolbox.attr_int, n=3)\n",
    "toolbox.register(\"population\", tools.initRepeat, list, toolbox.individual)\n"
   ]
  },
  {
   "cell_type": "code",
   "execution_count": 70,
   "id": "eca6d550-51a8-4c14-8d25-f93f0a3ba972",
   "metadata": {},
   "outputs": [],
   "source": [
    "def evaluate(individual):\n",
    "    a, b, c = individual\n",
    "    return abs(a**2 + b**2 - c**2),"
   ]
  },
  {
   "cell_type": "code",
   "execution_count": 71,
   "id": "24d12062-2f78-4cbd-a372-3b924bf85295",
   "metadata": {},
   "outputs": [],
   "source": [
    "toolbox.register(\"evaluate\", evaluate)"
   ]
  },
  {
   "cell_type": "code",
   "execution_count": 72,
   "id": "61c54a36-bca4-4511-acd3-807f27c4c6c0",
   "metadata": {},
   "outputs": [],
   "source": [
    "def mutate(individual):\n",
    "    index = random.randint(0, 2)  # Choose a random index in [0, 1, 2]\n",
    "    individual[index] = random.randint(1, 100)  # Assign a new random value\n",
    "    return individual,\n"
   ]
  },
  {
   "cell_type": "code",
   "execution_count": 73,
   "id": "71981a49-1755-44bc-8de9-dea75e964d03",
   "metadata": {},
   "outputs": [],
   "source": [
    "toolbox.register(\"mate\", tools.cxOnePoint)\n",
    "#toolbox.register(\"mutate\", tools.mutUniformInt, low=1, up=100, indpb=0.2)\n",
    "toolbox.register(\"mutate\", mutate)\n",
    "toolbox.register(\"select\", tools.selTournament, tournsize=3)\n"
   ]
  },
  {
   "cell_type": "markdown",
   "id": "5e573546-ca61-468b-83c6-173fde16936c",
   "metadata": {},
   "source": [
    "## **Genetic Algorithm Execution: Main Function**"
   ]
  },
  {
   "cell_type": "code",
   "execution_count": 74,
   "id": "27cb4fc4-7e80-49c6-9ea5-e8b533016b96",
   "metadata": {},
   "outputs": [],
   "source": [
    "def main():\n",
    "    pop = toolbox.population(n=300)\n",
    "    # Define the probability\n",
    "    # CXPB - Crossover Probability, MUTPB - Mutation Probability, NGEN - Number of Generations\n",
    "    CXPB, MUTPB, NGEN = 0.5, 0.2, 40\n",
    "        # Evaluate the entire population\n",
    "    fitnesses = list(map(toolbox.evaluate, pop))\n",
    "    # Assigning the evaluated fitness to corresponding individuals\n",
    "    for ind, fit in zip(pop, fitnesses):# For each individual and corresponding fitness value\n",
    "        ind.fitness.values = fit # Assign the fitness value to the individual’s fitness attribute\n",
    "    \n",
    "    for gen in range(NGEN):\n",
    "        # Selecting individuals to form the next generation based on their fitness using Tournament Selection.\n",
    "        offspring = toolbox.select(pop, len(pop))\n",
    "        # Creating a deep copy of the offspring to ensure that modifications in offspring do not affect the original individuals.\n",
    "        offspring = list(map(toolbox.clone, offspring))\n",
    "        \n",
    "        # offspring[::2] gets all even indices of the offspring list, => all offspring at positions 0, 2, 4, ...\n",
    "        # offspring[1::2] gets all odd indices of the offspring list, => all offspring at positions 1, 3, 5, ...\n",
    "        # For each pair of adjacent offspring (child1 from even indices, and child2 from odd indices)\n",
    "        for child1, child2 in zip(offspring[::2], offspring[1::2]):\n",
    "            # A random float between 0 and 1 is compared to CXPB to decide whether to perform crossover.\n",
    "            if random.random() < CXPB:\n",
    "                toolbox.mate(child1, child2)\n",
    "                del child1.fitness.values\n",
    "                del child2.fitness.values\n",
    "        \n",
    "        for mutant in offspring:\n",
    "            # For each individual, there is a MUTPB chance it will undergo mutation.\n",
    "            if random.random() < MUTPB:\n",
    "                # If selected for mutation, perform mutation operation on the individual.\n",
    "                toolbox.mutate(mutant)\n",
    "                # After mutation, delete the fitness values as they are no longer valid.\n",
    "                del mutant.fitness.values\n",
    "        # Find the individuals in the offspring population whose fitness is invalid\n",
    "        invalid_ind = [ind for ind in offspring if not ind.fitness.valid]\n",
    "        # Evaluate the fitness of invalid individuals\n",
    "        # Compute the fitness of each invalid individual using the evaluate function\n",
    "        fitnesses = map(toolbox.evaluate, invalid_ind)\n",
    "         # Assign the newly computed fitness values to the corresponding individuals\n",
    "        for ind, fit in zip(invalid_ind, fitnesses):\n",
    "            ind.fitness.values = fit\n",
    "        # Replacing with new population\n",
    "        pop[:] = offspring\n",
    "    \n",
    "    return pop\n"
   ]
  },
  {
   "cell_type": "markdown",
   "id": "6ef6aedd-d689-45b6-820c-ec64c047de16",
   "metadata": {},
   "source": [
    "## **Evaluating Genetic Algorithm Effectiveness**\n",
    "\n",
    "### **1. Algorithm Execution:**\n",
    "We are executing the Genetic Algorithm `N` times to systematically observe its capability to consistently identify Pythagorean triples.\n",
    "\n",
    "### **2. Success Rate Calculation:**\n",
    "The success rate is quantified as the ratio of the number of successful runs to the total number of executions, `N`. A run is considered successful if the algorithm is able to identify a Pythagorean triple within the population.\n"
   ]
  },
  {
   "cell_type": "code",
   "execution_count": 76,
   "id": "4a7ea1ab-3927-4d14-9594-5b849ff82f89",
   "metadata": {},
   "outputs": [
    {
     "name": "stdout",
     "output_type": "stream",
     "text": [
      "Success rate:  0.2\n"
     ]
    }
   ],
   "source": [
    "N = 20\n",
    "successes = 0\n",
    "for _ in range(N):\n",
    "    population = main()\n",
    "    for ind in population:\n",
    "        a, b, c = ind\n",
    "        if a**2 + b**2 == c**2:\n",
    "            successes += 1\n",
    "            break\n",
    "\n",
    "success_rate = successes / N\n",
    "print(\"Success rate: \", success_rate)\n"
   ]
  },
  {
   "cell_type": "markdown",
   "id": "1ba616c2-05eb-43f5-a212-1d6c03c09750",
   "metadata": {},
   "source": [
    "### Estimating Confidence Interval Using Wilson's Method\n",
    "\n",
    "We used Wilson's method for calculating the confidence interval of a proportion, \n",
    "particularly beneficial when dealing with proportions near 0 or 1, offering more accurate intervals.\n",
    "\n",
    "In this analysis, the `proportion_confint` function from the `statsmodels.stats.proportion` library is employed with the Wilson method to estimate the confidence interval of the program's success rate, defined as the proportion of successful runs over total runs (`N`). \n",
    "\n",
    "- **Function Used:** `proportion_confint`\n",
    "- **Library:** `statsmodels.stats.proportion`\n",
    "- **Method:** Wilson\n",
    "- **Confidence Level:** 95% (alpha=0.05)\n",
    "\n",
    "```python\n",
    "ci_low, ci_upp = sm.stats.proportion_confint(successes, N, alpha=0.05, method='wilson')\n"
   ]
  },
  {
   "cell_type": "code",
   "execution_count": 77,
   "id": "95d97606-2846-4c6f-87f5-af962e97a43d",
   "metadata": {},
   "outputs": [
    {
     "name": "stdout",
     "output_type": "stream",
     "text": [
      "Confidence interval: (0.08, 0.42)\n"
     ]
    }
   ],
   "source": [
    "ci_low, ci_upp = sm.stats.proportion_confint(successes, N, alpha=0.05, method='wilson')\n",
    "print(f\"Confidence interval: ({ci_low:.2f}, {ci_upp:.2f})\")\n"
   ]
  },
  {
   "cell_type": "markdown",
   "id": "eed5af4a-f821-45da-8d8f-faa8ac2087e3",
   "metadata": {},
   "source": [
    "### **Random Method Execution**"
   ]
  },
  {
   "cell_type": "code",
   "execution_count": 78,
   "id": "d7d87321-c45c-4556-a195-f35313bc2359",
   "metadata": {},
   "outputs": [],
   "source": [
    "random_successes = 0\n",
    "for _ in range(N):\n",
    "    # Generate two random integers 'a' and 'b' between 1 and 100\n",
    "    a = random.randint(1, 100)\n",
    "    b = random.randint(1, 100)\n",
    "    # Select 'c' such that it is the maximum of 'a' and 'b' to satisfy the Pythagorean theorem condition\n",
    "    c = random.randint(max(a,b), 100)\n",
    "    if a**2 + b**2 == c**2:\n",
    "        random_successes += 1\n",
    "\n"
   ]
  },
  {
   "cell_type": "markdown",
   "id": "fb90100f-eaaa-4c60-91ce-019c9db9b64c",
   "metadata": {},
   "source": [
    "### **Comparison via Fisher's Exact Test**"
   ]
  },
  {
   "cell_type": "code",
   "execution_count": 79,
   "id": "3cf05074-694a-4d5a-8ca3-797960be7928",
   "metadata": {},
   "outputs": [
    {
     "name": "stdout",
     "output_type": "stream",
     "text": [
      "P-Value from Fisher's exact test: 0.10602910602910605\n"
     ]
    }
   ],
   "source": [
    "# Construct a 2x2 contingency table where:\n",
    "# Perform a Fisher's exact test on the table to compare the success rates of the Genetic Algorithm and Random Generator\n",
    "oddsratio, pvalue = stats.fisher_exact([[successes, N - successes], [random_successes, N - random_successes]])\n",
    "print(f\"P-Value from Fisher's exact test: {pvalue}\")"
   ]
  },
  {
   "cell_type": "markdown",
   "id": "71abba6b-a9b1-47b6-a389-8ccb7b0ce2f5",
   "metadata": {},
   "source": [
    "` Since the p-value is greater than 0.05, there is not enough evidence to reject the null hypothesis, suggesting that, based on this sample, there is not a statistically significant difference between the success rate of the genetic algorithm and that of a random generator in finding Pythagorean triples`\n"
   ]
  },
  {
   "cell_type": "code",
   "execution_count": 65,
   "id": "cb225523-4ad4-4c19-aba7-7d2532f3d438",
   "metadata": {
    "scrolled": true
   },
   "outputs": [
    {
     "name": "stdout",
     "output_type": "stream",
     "text": [
      "Requirement already satisfied: matplotlib in /usr/local/lib/python3.11/site-packages (3.8.0)\n",
      "Requirement already satisfied: contourpy>=1.0.1 in /usr/local/lib/python3.11/site-packages (from matplotlib) (1.1.1)\n",
      "Requirement already satisfied: cycler>=0.10 in /usr/local/lib/python3.11/site-packages (from matplotlib) (0.12.0)\n",
      "Requirement already satisfied: fonttools>=4.22.0 in /usr/local/lib/python3.11/site-packages (from matplotlib) (4.42.1)\n",
      "Requirement already satisfied: kiwisolver>=1.0.1 in /usr/local/lib/python3.11/site-packages (from matplotlib) (1.4.5)\n",
      "Requirement already satisfied: numpy<2,>=1.21 in /usr/local/lib/python3.11/site-packages (from matplotlib) (1.26.0)\n",
      "Requirement already satisfied: packaging>=20.0 in /usr/local/lib/python3.11/site-packages (from matplotlib) (23.1)\n",
      "Requirement already satisfied: pillow>=6.2.0 in /usr/local/lib/python3.11/site-packages (from matplotlib) (10.0.1)\n",
      "Requirement already satisfied: pyparsing>=2.3.1 in /usr/local/lib/python3.11/site-packages (from matplotlib) (3.1.1)\n",
      "Requirement already satisfied: python-dateutil>=2.7 in /usr/local/lib/python3.11/site-packages (from matplotlib) (2.8.2)\n",
      "Requirement already satisfied: six>=1.5 in /usr/local/lib/python3.11/site-packages (from python-dateutil>=2.7->matplotlib) (1.16.0)\n"
     ]
    }
   ],
   "source": [
    "!pip3 install matplotlib\n"
   ]
  },
  {
   "cell_type": "code",
   "execution_count": 66,
   "id": "affa25ae-9091-47d9-89e6-c2d3e7c9f793",
   "metadata": {},
   "outputs": [
    {
     "data": {
      "image/png": "[encoded data removed]",
      "text/plain": [
       "<Figure size 640x480 with 1 Axes>"
      ]
     },
     "metadata": {},
     "output_type": "display_data"
    }
   ],
   "source": [
    "import matplotlib.pyplot as plt\n",
    "\n",
    "# Success rate is the height of the bar\n",
    "# The error is the difference between the success rate and the limits of the confidence interval\n",
    "error = [[success_rate - ci_low], [ci_upp - success_rate]]\n",
    "\n",
    "plt.bar('Genetic Algorithm', success_rate, yerr=error, color='blue', alpha=0.6)\n",
    "plt.ylabel('Success Rate')\n",
    "plt.title('Confidence Interval of Success Rate')\n",
    "plt.ylim(0, 1)  # as success rate is a probability, it is between 0 and 1\n",
    "\n",
    "# Showing the exact value of success rate and confidence interval on the plot\n",
    "plt.text('Genetic Algorithm', success_rate, f'{success_rate:.2f}\\n({ci_low:.2f}, {ci_upp:.2f})', ha='center', va='center', fontsize=10, color='black')\n",
    "\n",
    "plt.show()\n"
   ]
  }
 ],
 "metadata": {
  "kernelspec": {
   "display_name": "Python 3 (ipykernel)",
   "language": "python",
   "name": "python3"
  },
  "language_info": {
   "codemirror_mode": {
    "name": "ipython",
    "version": 3
   },
   "file_extension": ".py",
   "mimetype": "text/x-python",
   "name": "python",
   "nbconvert_exporter": "python",
   "pygments_lexer": "ipython3",
   "version": "3.11.5"
  }
 },
 "nbformat": 4,
 "nbformat_minor": 5
}
